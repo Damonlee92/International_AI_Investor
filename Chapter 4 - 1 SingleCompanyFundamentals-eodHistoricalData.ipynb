{
 "cells": [
  {
   "cell_type": "code",
   "execution_count": null,
   "metadata": {},
   "outputs": [],
   "source": [
    "# Code for the Book: International Stock Picking A.I. INVESTOR: A Guide to Build.\n",
    "# Website: ai-investor.net\n",
    "# Code needs am \"All-In-One\" subscription from the (presumably) nice people at https://eodhistoricaldata.com/. \n",
    "# Check the book text to see if they have changed their service since mid-2021.\n",
    "\n",
    "# Damon Lee 2021\n",
    "\n",
    "# Feel free to fork this code for others to see what can be done with it."
   ]
  },
  {
   "cell_type": "code",
   "execution_count": null,
   "metadata": {},
   "outputs": [],
   "source": [
    "myToken = 'ABC123zyx.XXXXXXXXXX' # put own token from eodhistoricaldata.com here"
   ]
  },
  {
   "cell_type": "code",
   "execution_count": 2,
   "metadata": {},
   "outputs": [],
   "source": [
    "# Set the plotting DPI settings to be a bit higher.\n",
    "from matplotlib import pyplot as plt\n",
    "plt.rcParams['figure.figsize'] = [7.0, 4.5]\n",
    "plt.rcParams['figure.dpi'] = 150"
   ]
  },
  {
   "cell_type": "markdown",
   "metadata": {},
   "source": [
    "# API Requests With EODHistoricalData"
   ]
  },
  {
   "cell_type": "code",
   "execution_count": null,
   "metadata": {},
   "outputs": [],
   "source": [
    "import requests\n",
    "session = requests.Session()\n",
    "params = {'api_token': myToken}\n",
    "r = session.get('https://eodhistoricaldata.com/api/user/', params=params)\n",
    "r.text"
   ]
  },
  {
   "cell_type": "markdown",
   "metadata": {},
   "source": [
    "# Request Fundamental Data For One Company\n",
    "(And explore some of the data)"
   ]
  },
  {
   "cell_type": "code",
   "execution_count": 4,
   "metadata": {},
   "outputs": [],
   "source": [
    "import requests\n",
    "import json\n",
    "\n",
    "def get_fundamental_data(symbol='MCD.US', \n",
    "                         api_token='OeAFFmMliFG5orCUuwAKQ8l4WWFQ67YX', \n",
    "                         session=None, \n",
    "                         continueWhenError=False): #Move to myFunctions.py\n",
    "    '''Get stock fundamental data as a Dictionary.'''\n",
    "    \n",
    "    if session is None:\n",
    "        session = requests.Session()\n",
    "    url = 'https://eodhistoricaldata.com/api/fundamentals/'+ symbol\n",
    "    params = {'api_token': api_token}\n",
    "    r = session.get(url, params=params)\n",
    "        \n",
    "    if r.status_code == requests.codes.ok:\n",
    "        return json.loads(r.text) # returns a dictionary\n",
    "    else:\n",
    "        if continueWhenError:\n",
    "            with open(\"get_fundamental_data_issues.txt\", \"a\") as myfile:\n",
    "                myfile.write(symbol+' '+str(r.status_code)+' '+\\\n",
    "                             str(r.reason)+' '+str(url)+'\\n')\n",
    "                myfile.close()\n",
    "        else:\n",
    "            raise Exception(r.status_code, r.reason, url)"
   ]
  },
  {
   "cell_type": "code",
   "execution_count": 5,
   "metadata": {
    "scrolled": true
   },
   "outputs": [
    {
     "data": {
      "text/plain": [
       "dict_keys(['General', 'Highlights', 'Valuation', 'SharesStats', 'Technicals', 'SplitsDividends', 'AnalystRatings', 'Holders', 'InsiderTransactions', 'ESGScores', 'outstandingShares', 'Earnings', 'Financials'])"
      ]
     },
     "execution_count": 5,
     "metadata": {},
     "output_type": "execute_result"
    }
   ],
   "source": [
    "singleStockData = get_fundamental_data('INTC.US', myToken)\n",
    "singleStockData.keys() # view the keys"
   ]
  },
  {
   "cell_type": "code",
   "execution_count": 6,
   "metadata": {},
   "outputs": [
    {
     "data": {
      "text/plain": [
       "{'Code': 'INTC',\n",
       " 'Type': 'Common Stock',\n",
       " 'Name': 'Intel Corporation',\n",
       " 'Exchange': 'NASDAQ',\n",
       " 'CurrencyCode': 'USD',\n",
       " 'CurrencyName': 'US Dollar',\n",
       " 'CurrencySymbol': '$',\n",
       " 'CountryName': 'USA',\n",
       " 'CountryISO': 'US',\n",
       " 'ISIN': 'US4581401001',\n",
       " 'CUSIP': '458140100',\n",
       " 'CIK': '50863',\n",
       " 'EmployerIdNumber': '94-1672743',\n",
       " 'FiscalYearEnd': 'December',\n",
       " 'IPODate': '1971-10-13',\n",
       " 'InternationalDomestic': 'International/Domestic',\n",
       " 'Sector': 'Technology',\n",
       " 'Industry': 'Semiconductors',\n",
       " 'GicSector': 'Information Technology',\n",
       " 'GicGroup': 'Semiconductors & Semiconductor Equipment',\n",
       " 'GicIndustry': 'Semiconductors & Semiconductor Equipment',\n",
       " 'GicSubIndustry': 'Semiconductors',\n",
       " 'HomeCategory': 'Domestic',\n",
       " 'IsDelisted': False,\n",
       " 'Description': 'Intel Corporation designs, manufactures, and sells essential technologies for the cloud, smart, and connected devices for retail, industrial, and consumer uses worldwide. The company operates through DCG, IOTG, Mobileye, NSG, PSG, CCG, and All Other segments. It offers platform products, such as central processing units and chipsets, and system-on-chip and multichip packages; and non-platform or adjacent products comprising accelerators, boards and systems, connectivity products, and memory and storage products. The company also provides Internet of Things products, including high-performance compute solutions for targeted verticals and embedded applications; and computer vision and machine learning-based sensing, data analysis, localization, mapping, and driving policy technology. It serves original equipment manufacturers, original design manufacturers, and cloud service providers. Intel Corporation has a strategic partnership with MILA to develop and apply advances in artificial intelligence methods for enhancing the search in the space of drugs. The company was founded in 1968 and is headquartered in Santa Clara, California.',\n",
       " 'Address': '2200 Mission College Boulevard, Santa Clara, CA, United States, 95054-1549',\n",
       " 'AddressData': {'Street': '2200 Mission College Boulevard',\n",
       "  'City': 'Santa Clara',\n",
       "  'State': 'CA',\n",
       "  'Country': 'United States',\n",
       "  'ZIP': '95054-1549'},\n",
       " 'Listings': {'0': {'Code': 'INTC',\n",
       "   'Exchange': 'BA',\n",
       "   'Name': 'Intel Corp. CEDEAR'},\n",
       "  '1': {'Code': 'ITLC34', 'Exchange': 'SA', 'Name': 'Intel Corporation'}},\n",
       " 'Officers': {'0': {'Name': 'Mr. George S. Davis',\n",
       "   'Title': 'Exec. VP & CFO',\n",
       "   'YearBorn': '1958'},\n",
       "  '1': {'Name': 'Mr. Steven R. Rodgers',\n",
       "   'Title': 'Exec. VP & Gen. Counsel',\n",
       "   'YearBorn': '1966'},\n",
       "  '2': {'Name': 'Mr. Gregory M. Bryant',\n",
       "   'Title': 'Exec. VP & GM of Client Computing Group',\n",
       "   'YearBorn': '1969'},\n",
       "  '3': {'Name': 'Mr. Patrick P. Gelsinger',\n",
       "   'Title': 'CEO & Director',\n",
       "   'YearBorn': '1961'},\n",
       "  '4': {'Name': 'Mr. Keyvan  Esfarjani',\n",
       "   'Title': 'Sr. VP & GM of Manufacturing and Operations',\n",
       "   'YearBorn': 'NA'},\n",
       "  '5': {'Name': 'Mr. Kevin Thomas McBride',\n",
       "   'Title': 'VP of Fin., Corp. Controller & Principal Accounting Officer',\n",
       "   'YearBorn': '1970'},\n",
       "  '6': {'Name': 'Mr. Greg  Lavender',\n",
       "   'Title': 'CTO, Sr. VP, and GM of Intel Software & Advanced Technology Group',\n",
       "   'YearBorn': 'NA'},\n",
       "  '7': {'Name': 'Ms. Archana  Deskus',\n",
       "   'Title': 'Sr. VP & Chief Information Officer',\n",
       "   'YearBorn': '1966'},\n",
       "  '8': {'Name': 'Ms. Jo S. Levy',\n",
       "   'Title': 'Chief Compliance Officer and VP of Law & Policy Group',\n",
       "   'YearBorn': 'NA'},\n",
       "  '9': {'Name': 'Ms. Michelle C. Johnston Holthaus',\n",
       "   'Title': 'Exec. VP and GM of Sales, Marketing & Communications Group',\n",
       "   'YearBorn': 'NA'}},\n",
       " 'Phone': '408 765 8080',\n",
       " 'WebURL': 'http://www.intel.com',\n",
       " 'LogoURL': '/img/logos/US/INTC.png',\n",
       " 'FullTimeEmployees': 110600,\n",
       " 'UpdatedAt': '2021-07-17'}"
      ]
     },
     "execution_count": 6,
     "metadata": {},
     "output_type": "execute_result"
    }
   ],
   "source": [
    "singleStockData['General']"
   ]
  },
  {
   "cell_type": "code",
   "execution_count": 7,
   "metadata": {},
   "outputs": [
    {
     "data": {
      "text/plain": [
       "dict_keys(['Balance_Sheet', 'Cash_Flow', 'Income_Statement'])"
      ]
     },
     "execution_count": 7,
     "metadata": {},
     "output_type": "execute_result"
    }
   ],
   "source": [
    "singleStockData['Financials'].keys()"
   ]
  },
  {
   "cell_type": "code",
   "execution_count": 8,
   "metadata": {
    "scrolled": false
   },
   "outputs": [
    {
     "data": {
      "text/plain": [
       "dict_keys(['2020-12-31', '2019-12-31', '2018-12-31', '2017-12-31', '2016-12-31', '2015-12-31', '2014-12-31', '2013-12-31', '2012-12-31', '2011-12-31', '2010-12-31', '2009-12-31', '2008-12-31', '2007-12-31', '2006-12-31', '2005-12-31', '2004-12-31', '2003-12-31', '2002-12-31', '2001-12-31', '2000-12-31', '1999-12-31', '1998-12-31', '1997-12-31', '1996-12-31', '1995-12-31', '1994-12-31'])"
      ]
     },
     "execution_count": 8,
     "metadata": {},
     "output_type": "execute_result"
    }
   ],
   "source": [
    "singleStockData['Financials']['Income_Statement']['yearly'].keys()"
   ]
  },
  {
   "cell_type": "code",
   "execution_count": 9,
   "metadata": {},
   "outputs": [
    {
     "data": {
      "text/plain": [
       "{'date': '2019-12-31',\n",
       " 'filing_date': '2020-01-24',\n",
       " 'currency_symbol': 'USD',\n",
       " 'researchDevelopment': '13362000000.00',\n",
       " 'effectOfAccountingCharges': None,\n",
       " 'incomeBeforeTax': '24058000000.00',\n",
       " 'minorityInterest': None,\n",
       " 'netIncome': '21048000000.00',\n",
       " 'sellingGeneralAdministrative': '6150000000.00',\n",
       " 'sellingAndMarketingExpenses': None,\n",
       " 'grossProfit': '42140000000.00',\n",
       " 'reconciledDepreciation': '10826000000.00',\n",
       " 'ebit': '22035000000.00',\n",
       " 'ebitda': '32861000000.00',\n",
       " 'depreciationAndAmortization': '10826000000.00',\n",
       " 'nonOperatingIncomeNetOther': '2023000000.00',\n",
       " 'operatingIncome': '22035000000.00',\n",
       " 'otherOperatingExpenses': '49930000000.00',\n",
       " 'interestExpense': '489000000.00',\n",
       " 'taxProvision': '3010000000.00',\n",
       " 'interestIncome': '483000000.00',\n",
       " 'netInterestIncome': '-6000000.00',\n",
       " 'extraordinaryItems': None,\n",
       " 'nonRecurring': '393000000.00',\n",
       " 'otherItems': None,\n",
       " 'incomeTaxExpense': '3010000000.00',\n",
       " 'totalRevenue': '71965000000.00',\n",
       " 'totalOperatingExpenses': '20105000000.00',\n",
       " 'costOfRevenue': '29825000000.00',\n",
       " 'totalOtherIncomeExpenseNet': '490000000.00',\n",
       " 'discontinuedOperations': None,\n",
       " 'netIncomeFromContinuingOps': '21048000000.00',\n",
       " 'netIncomeApplicableToCommonShares': '21048000000.00',\n",
       " 'preferredStockAndOtherAdjustments': None}"
      ]
     },
     "execution_count": 9,
     "metadata": {},
     "output_type": "execute_result"
    }
   ],
   "source": [
    "singleStockData['Financials']['Income_Statement']['yearly']['2019-12-31'] # Income statement 2019\n",
    "# https://s1.q4cdn.com/281009473/files/doc_downloads/documents/2019-Annual-Report.pdf"
   ]
  },
  {
   "cell_type": "markdown",
   "metadata": {},
   "source": [
    "# Plotting Financial Data Over Time"
   ]
  },
  {
   "cell_type": "code",
   "execution_count": 10,
   "metadata": {},
   "outputs": [],
   "source": [
    "incomeByYear = []\n",
    "dates = singleStockData['Financials']['Income_Statement']['yearly'].keys()\n",
    "for year in dates:\n",
    "    incomeByYear.append(float(singleStockData['Financials']['Income_Statement']['yearly'][year]['netIncome'])/1e9)"
   ]
  },
  {
   "cell_type": "code",
   "execution_count": 11,
   "metadata": {},
   "outputs": [
    {
     "data": {
      "image/png": "[encoded data removed]",
      "text/plain": [
       "<Figure size 1500x750 with 1 Axes>"
      ]
     },
     "metadata": {
      "needs_background": "light"
     },
     "output_type": "display_data"
    }
   ],
   "source": [
    "from matplotlib import pyplot as plt\n",
    "plt.figure(figsize=(10,5))\n",
    "\n",
    "plt.bar(x=singleStockData['Financials']['Income_Statement']['yearly'].keys(), height=incomeByYear)\n",
    "plt.xticks(rotation=-90)\n",
    "plt.grid()\n",
    "plt.title('Intel Net Income Over Time', fontsize=16)\n",
    "plt.ylabel('INTC Net Income $Bn')\n",
    "ax = plt.gca()\n",
    "ax.invert_xaxis()"
   ]
  },
  {
   "cell_type": "code",
   "execution_count": 12,
   "metadata": {},
   "outputs": [
    {
     "data": {
      "text/plain": [
       "[20.899,\n",
       " 21.048,\n",
       " 21.053,\n",
       " 9.601,\n",
       " 10.316,\n",
       " 11.42,\n",
       " 11.704,\n",
       " 9.62,\n",
       " 11.005,\n",
       " 12.942,\n",
       " 11.464,\n",
       " 4.369,\n",
       " 5.292,\n",
       " 6.976,\n",
       " 5.044,\n",
       " 8.664,\n",
       " 7.516,\n",
       " 5.641,\n",
       " 3.117,\n",
       " 1.291,\n",
       " 10.535,\n",
       " 7.314,\n",
       " 6.068,\n",
       " 6.945,\n",
       " 5.157,\n",
       " 3.566,\n",
       " 2.288]"
      ]
     },
     "execution_count": 12,
     "metadata": {},
     "output_type": "execute_result"
    }
   ],
   "source": [
    "incomeByYear"
   ]
  },
  {
   "cell_type": "code",
   "execution_count": null,
   "metadata": {},
   "outputs": [],
   "source": []
  }
 ],
 "metadata": {
  "kernelspec": {
   "display_name": "Python 3",
   "language": "python",
   "name": "python3"
  },
  "language_info": {
   "codemirror_mode": {
    "name": "ipython",
    "version": 3
   },
   "file_extension": ".py",
   "mimetype": "text/x-python",
   "name": "python",
   "nbconvert_exporter": "python",
   "pygments_lexer": "ipython3",
   "version": "3.8.10"
  }
 },
 "nbformat": 4,
 "nbformat_minor": 4
}
