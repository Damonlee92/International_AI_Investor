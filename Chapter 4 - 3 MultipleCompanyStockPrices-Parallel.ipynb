{
 "cells": [
  {
   "cell_type": "code",
   "execution_count": null,
   "metadata": {},
   "outputs": [],
   "source": [
    "# Code for the Book: International Stock Picking A.I. INVESTOR: A Guide to Build.\n",
    "# Website: ai-investor.net\n",
    "# Code needs am \"All-In-One\" subscription from the (presumably) nice people at https://eodhistoricaldata.com/. \n",
    "# Check the book text to see if they have changed their service since mid-2021.\n",
    "\n",
    "# Damon Lee 2021\n",
    "\n",
    "# Feel free to fork this code for others to see what can be done with it."
   ]
  },
  {
   "cell_type": "code",
   "execution_count": null,
   "metadata": {},
   "outputs": [],
   "source": [
    "myToken = 'ABC123.XXXXXX.84098767' # Own token from EODHistoricalData"
   ]
  },
  {
   "cell_type": "code",
   "execution_count": 2,
   "metadata": {},
   "outputs": [],
   "source": [
    "from myFunctions import *"
   ]
  },
  {
   "cell_type": "markdown",
   "metadata": {},
   "source": [
    "# Get Stock Price Series For One Company"
   ]
  },
  {
   "cell_type": "code",
   "execution_count": 3,
   "metadata": {},
   "outputs": [],
   "source": [
    "import pandas as pd\n",
    "import requests\n",
    "from io import StringIO # read string as file for pandas\n",
    "\n",
    "def get_eod_data(startDate, \n",
    "                 endDate, \n",
    "                 symbol='AAPL.US', \n",
    "                 api_token='OeAFFmMliFG5orCUuwAKQ8l4WWFQ67YX', \n",
    "                 session=None):\n",
    "    '''\n",
    "    Gets price series data between startDate and endDate.\n",
    "    Can set endDate to the future for up to present day price series.\n",
    "    Does not raise exception if there is an error, instead writes to \n",
    "    StockWithIssues.txt.\n",
    "    Returns a DataFrame where Date is NOT the index col.\n",
    "    '''\n",
    "    if session is None:\n",
    "        session = requests.Session()\n",
    "    url = 'https://eodhistoricaldata.com/api/eod/%s' % symbol\n",
    "    params = {'api_token': api_token, 'from':startDate, 'to':endDate}\n",
    "    r = session.get(url, params=params)\n",
    "    if r.status_code == requests.codes.ok:\n",
    "        df = pd.read_csv(StringIO(r.text), \n",
    "                         skipfooter=1, \n",
    "                         parse_dates=[0], \n",
    "                         engine='python')# index_col=0\n",
    "        return df\n",
    "    else:\n",
    "        with open(\"StockWithIssues.txt\", \"a\") as myfile:\n",
    "            myfile.write(symbol+' '+str(r.status_code)+\\\n",
    "                         ' '+str(r.reason)+' '+str(url)+'\\n')\n",
    "            myfile.close()\n",
    "        return pd.DataFrame()"
   ]
  },
  {
   "cell_type": "code",
   "execution_count": 4,
   "metadata": {},
   "outputs": [
    {
     "data": {
      "text/html": [
       "<div>\n",
       "<style scoped>\n",
       "    .dataframe tbody tr th:only-of-type {\n",
       "        vertical-align: middle;\n",
       "    }\n",
       "\n",
       "    .dataframe tbody tr th {\n",
       "        vertical-align: top;\n",
       "    }\n",
       "\n",
       "    .dataframe thead th {\n",
       "        text-align: right;\n",
       "    }\n",
       "</style>\n",
       "<table border=\"1\" class=\"dataframe\">\n",
       "  <thead>\n",
       "    <tr style=\"text-align: right;\">\n",
       "      <th></th>\n",
       "      <th>Date</th>\n",
       "      <th>Open</th>\n",
       "      <th>High</th>\n",
       "      <th>Low</th>\n",
       "      <th>Close</th>\n",
       "      <th>Adjusted_close</th>\n",
       "      <th>Volume</th>\n",
       "    </tr>\n",
       "  </thead>\n",
       "  <tbody>\n",
       "    <tr>\n",
       "      <th>0</th>\n",
       "      <td>2010-01-04</td>\n",
       "      <td>250.0</td>\n",
       "      <td>258.05</td>\n",
       "      <td>246.95</td>\n",
       "      <td>246.950</td>\n",
       "      <td>245.1572</td>\n",
       "      <td>577</td>\n",
       "    </tr>\n",
       "    <tr>\n",
       "      <th>1</th>\n",
       "      <td>2010-01-05</td>\n",
       "      <td>252.5</td>\n",
       "      <td>255.00</td>\n",
       "      <td>247.00</td>\n",
       "      <td>250.526</td>\n",
       "      <td>248.7073</td>\n",
       "      <td>223</td>\n",
       "    </tr>\n",
       "    <tr>\n",
       "      <th>2</th>\n",
       "      <td>2010-01-06</td>\n",
       "      <td>295.0</td>\n",
       "      <td>334.00</td>\n",
       "      <td>285.00</td>\n",
       "      <td>333.850</td>\n",
       "      <td>331.4264</td>\n",
       "      <td>248243</td>\n",
       "    </tr>\n",
       "    <tr>\n",
       "      <th>3</th>\n",
       "      <td>2010-01-07</td>\n",
       "      <td>332.5</td>\n",
       "      <td>340.00</td>\n",
       "      <td>318.00</td>\n",
       "      <td>328.000</td>\n",
       "      <td>325.6188</td>\n",
       "      <td>8209</td>\n",
       "    </tr>\n",
       "    <tr>\n",
       "      <th>4</th>\n",
       "      <td>2010-01-08</td>\n",
       "      <td>325.0</td>\n",
       "      <td>325.00</td>\n",
       "      <td>315.20</td>\n",
       "      <td>315.200</td>\n",
       "      <td>312.9117</td>\n",
       "      <td>5389</td>\n",
       "    </tr>\n",
       "  </tbody>\n",
       "</table>\n",
       "</div>"
      ],
      "text/plain": [
       "        Date   Open    High     Low    Close  Adjusted_close  Volume\n",
       "0 2010-01-04  250.0  258.05  246.95  246.950        245.1572     577\n",
       "1 2010-01-05  252.5  255.00  247.00  250.526        248.7073     223\n",
       "2 2010-01-06  295.0  334.00  285.00  333.850        331.4264  248243\n",
       "3 2010-01-07  332.5  340.00  318.00  328.000        325.6188    8209\n",
       "4 2010-01-08  325.0  325.00  315.20  315.200        312.9117    5389"
      ]
     },
     "execution_count": 4,
     "metadata": {},
     "output_type": "execute_result"
    }
   ],
   "source": [
    "priceSeries = get_eod_data('2010-01-01', '2021-12-30', symbol='GAW.LSE', api_token=myToken)\n",
    "priceSeries.head()"
   ]
  },
  {
   "cell_type": "code",
   "execution_count": 5,
   "metadata": {},
   "outputs": [
    {
     "data": {
      "text/plain": [
       "<AxesSubplot:xlabel='Date'>"
      ]
     },
     "execution_count": 5,
     "metadata": {},
     "output_type": "execute_result"
    },
    {
     "data": {
      "image/png": "[encoded data removed]",
      "text/plain": [
       "<Figure size 1080x504 with 1 Axes>"
      ]
     },
     "metadata": {
      "needs_background": "light"
     },
     "output_type": "display_data"
    }
   ],
   "source": [
    "from matplotlib import pyplot as plt\n",
    "\n",
    "priceSeries.index = priceSeries['Date']\n",
    "plt.figure(figsize = (15,7))\n",
    "priceSeries['Adjusted_close'].plot(grid=True)"
   ]
  },
  {
   "cell_type": "markdown",
   "metadata": {},
   "source": [
    "# Get Price On Publication And A Year Afterward Too"
   ]
  },
  {
   "cell_type": "code",
   "execution_count": 10,
   "metadata": {},
   "outputs": [
    {
     "name": "stderr",
     "output_type": "stream",
     "text": [
      "C:\\ProgramData\\Anaconda3\\lib\\site-packages\\IPython\\core\\interactiveshell.py:3165: DtypeWarning: Columns (0,10,12,14,22,23,42) have mixed types.Specify dtype option on import or set low_memory=False.\n",
      "  has_raised = await self.run_ast_nodes(code_ast.body, cell_name,\n"
     ]
    },
    {
     "name": "stdout",
     "output_type": "stream",
     "text": [
      "(536960, 152)\n"
     ]
    }
   ],
   "source": [
    "stockData=pd.read_csv('stockData_2021.csv')\n",
    "stockData['date'] = pd.to_datetime(stockData['date']) # fix the date format\n",
    "print(stockData.shape)"
   ]
  },
  {
   "cell_type": "code",
   "execution_count": 11,
   "metadata": {},
   "outputs": [],
   "source": [
    "import os\n",
    "\n",
    "def getPriceData(stockDataInput, threadNo=0):\n",
    "    '''\n",
    "    For finding the price difference corresponding to the stockData file.\n",
    "    \n",
    "    Input: the stockDataFile as a DataFrame\n",
    "    Output: Writes many price files in a folder. One per ticker in stockData,\n",
    "    containing the start and end prices.   \n",
    "    \n",
    "    1 API call for each ticker.\n",
    "    \n",
    "    After running this function, can combine all the price data files to \n",
    "    create y-vector DataFrame for Machine Learning on stock fundamental data.\n",
    "    As this function just dumps data into files, it can be run in parallel.\n",
    "    '''\n",
    "    print('Thread working', threadNo)\n",
    "\n",
    "    if not os.path.isdir('PriceDataFiles'):\n",
    "        print('Creating PriceDataFiles Folder')\n",
    "        os.mkdir('PriceDataFiles')\n",
    "    \n",
    "    # The data columns we want to store start and end price data for\n",
    "    pcols = ['ticker','startDate','startOpen','startHigh','startLow',\n",
    "             'startClose','startAdjusted_close','startVolume',\n",
    "             'endDate','endOpen','endHigh','endLow',\n",
    "             'endClose','endAdjusted_close','endVolume']\n",
    "    \n",
    "    # Obtaining the full list of stock tickers we have.\n",
    "    # Need to make sure US stocks end with .US\n",
    "    usaStocksBooleanMask = stockDataInput['Exchange'].isin(['NYSE MKT', \n",
    "                                                           'NASDAQ', \n",
    "                                                           'PINK', \n",
    "                                                           'NYSE ARCA', \n",
    "                                                           'NYSE'])\n",
    "    stockDataInput.loc[usaStocksBooleanMask, 'Exchange'] = 'US'\n",
    "    stockDataSeriesOfTickers = stockDataInput['Code'].astype(str) + \\\n",
    "                                '.' + \\\n",
    "                                stockDataInput['Exchange'].astype(str)\n",
    "    \n",
    "    # Iterate through every ticker that exists\n",
    "    for uniqueTicker in stockDataSeriesOfTickers.unique():\n",
    "        \n",
    "        # Grab the complete price data for each ticker. \n",
    "        \n",
    "        # (1) get the latest possible date we need price for.\n",
    "        # One year after latest report, plus publish date is 4 months after that.\n",
    "        latestDateToGetPriceFor = \\\n",
    "            stockDataInput[stockDataSeriesOfTickers==uniqueTicker]['date'].max()\\\n",
    "            + pd.Timedelta(days=365) \\\n",
    "            + pd.Timedelta(days=120) \n",
    "\n",
    "        # (2) get the earliest date we need price for\n",
    "        earliestDateToGetPriceFor = \\\n",
    "            stockDataInput[stockDataSeriesOfTickers==uniqueTicker]['date'].min()\n",
    "        \n",
    "        # (3) Get the price series for that whole period\n",
    "        prices = get_eod_data(earliestDateToGetPriceFor, \n",
    "                              latestDateToGetPriceFor, \n",
    "                              symbol=uniqueTicker, \n",
    "                              api_token=myToken)\n",
    "        \n",
    "        priceData = pd.DataFrame(columns=pcols)\n",
    "        \n",
    "        # Iterate though the annual reports for a single ticker and extract the \n",
    "        # prices on particular days corresponding to the annual reports.\n",
    "        for i, row in stockDataInput[stockDataSeriesOfTickers == \\\n",
    "                                     uniqueTicker].iterrows():\n",
    "            \n",
    "            \n",
    "\n",
    "            # Get publication date when the public get access to see the report.\n",
    "            publicationDate = row['date'] + pd.Timedelta(days=120)\n",
    "            \n",
    "            # Get the date 1 year after this time. So we have start and end.\n",
    "            yearAfterPublicationDate = publicationDate + pd.Timedelta(days=365)\n",
    "            \n",
    "            # Dictionary to fill with the price data we want.\n",
    "            rowDict = {'ticker':None, \n",
    "                       'startDate':None, 'startOpen':None, 'startHigh':None, \n",
    "                       'startLow':None, 'startClose': None, \n",
    "                       'startAdjusted_close':None, 'startVolume':None,\n",
    "                       'endDate':None, 'endOpen':None, 'endHigh':None, \n",
    "                       'endLow':None, 'endClose': None, \n",
    "                       'endAdjusted_close':None, 'endVolume':None}\n",
    "\n",
    "            rowDict['ticker'] = uniqueTicker # Filling the Dictionary\n",
    "\n",
    "            priceStart = pd.DataFrame()\n",
    "\n",
    "            # If there is price data, extract the start and end date data,\n",
    "            # or data as close to those dates as we can.\n",
    "            if not prices.empty:\n",
    "                pricesStart=pd.DataFrame()\n",
    "                pricesStart=prices[prices['Date'].between(publicationDate,\n",
    "                                                          publicationDate + \\\n",
    "                                                          pd.Timedelta(days=14))]\n",
    "                if not pricesStart.empty:\n",
    "                    # get soonest date of 2 week window\n",
    "                    priceStart = pricesStart.iloc[[0]] \n",
    "                    rowDict['startDate'] = priceStart['Date'].iloc[0]\n",
    "                    rowDict['startOpen'] = priceStart['Open'].iloc[0]\n",
    "                    rowDict['startHigh'] = priceStart['High'].iloc[0]\n",
    "                    rowDict['startLow'] = priceStart['Low'].iloc[0]\n",
    "                    rowDict['startClose'] = priceStart['Close'].iloc[0]\n",
    "                    rowDict['startAdjusted_close'] = \\\n",
    "                                        priceStart['Adjusted_close'].iloc[0]\n",
    "                    rowDict['startVolume'] = priceStart['Volume'].iloc[0]\n",
    "\n",
    "                pricesEnd = pd.DataFrame()\n",
    "                pricesEnd=prices[prices['Date'].between(yearAfterPublicationDate,\n",
    "                                                        yearAfterPublicationDate\\\n",
    "                                                        + pd.Timedelta(days=14))]\n",
    "                if not pricesEnd.empty:\n",
    "                    priceEnd = pricesEnd.iloc[[0]] #get soonest d of 2week window\n",
    "                    rowDict['endDate'] = priceEnd['Date'].iloc[0]\n",
    "                    rowDict['endOpen'] = priceEnd['Open'].iloc[0]\n",
    "                    rowDict['endHigh'] = priceEnd['High'].iloc[0]\n",
    "                    rowDict['endLow'] = priceEnd['Low'].iloc[0]\n",
    "                    rowDict['endClose'] = priceEnd['Close'].iloc[0]\n",
    "                    rowDict['endAdjusted_close'] = \\\n",
    "                                        priceEnd['Adjusted_close'].iloc[0]\n",
    "                    rowDict['endVolume'] = priceEnd['Volume'].iloc[0]\n",
    "\n",
    "            # Write the data to file, in the folder called PriceDataFiles.\n",
    "            priceData = priceData.append(pd.DataFrame(columns=pcols, \n",
    "                                                      data=rowDict, \n",
    "                                                      index=[i]))\n",
    "        priceData.to_csv('PriceDataFiles/'+str(i)+'.csv', header=False)\n",
    "        pass"
   ]
  },
  {
   "cell_type": "markdown",
   "metadata": {},
   "source": [
    "# Get Price on Publication and a Year Afterward (Serial one CPU core)"
   ]
  },
  {
   "cell_type": "code",
   "execution_count": 237,
   "metadata": {
    "scrolled": true
   },
   "outputs": [
    {
     "name": "stdout",
     "output_type": "stream",
     "text": [
      "Thread working 0\n"
     ]
    }
   ],
   "source": [
    "#getPriceData(stockData) # Get all the stock prices, single CPU thread\n",
    "\n",
    "#stockDataIn = stockData[:10] # Get first 10 rows of price data\n",
    "stockDataIn = stockData[:100000] # get first 100k rows of stock prices\n",
    "getPriceData(stockDataIn)"
   ]
  },
  {
   "cell_type": "markdown",
   "metadata": {},
   "source": [
    "# Get Price on Publication and a Year Afterward (Parallel)"
   ]
  },
  {
   "cell_type": "code",
   "execution_count": 43,
   "metadata": {},
   "outputs": [],
   "source": [
    "#536960 rows total.\n",
    "stockDataThreadList = [stockData.loc[:200000], \n",
    "                       stockData.loc[200000:400000], \n",
    "                       stockData.loc[400000:]]\n",
    "\n",
    "# If it takes too long, can split up the parallel jobs in batches and do manually.\n",
    "#stockDataThreadList = [stockData.loc[:3000], stockData.loc[3000:6000], stockData.loc[6000:9000]]\n",
    "#stockDataThreadList = [stockData.loc[9000:12000], stockData.loc[12000:15000], stockData.loc[15000:18000]]"
   ]
  },
  {
   "cell_type": "code",
   "execution_count": 44,
   "metadata": {},
   "outputs": [
    {
     "name": "stdout",
     "output_type": "stream",
     "text": [
      "Thread working 0\n",
      "Thread working 1\n",
      "Thread working 2\n"
     ]
    }
   ],
   "source": [
    "# When running this cell, might look like nothing is happening\n",
    "# Look at the folder, price data files are being dumped there.\n",
    "\n",
    "import threading\n",
    "l = len(stockDataThreadList)\n",
    "\n",
    "thread_list = []\n",
    "for i in range(l):\n",
    "    thread = threading.Thread(target=getPriceData, \n",
    "                              args=(stockDataThreadList[i],i))\n",
    "    thread_list.append(thread)\n",
    "    thread.start()"
   ]
  },
  {
   "cell_type": "code",
   "execution_count": 27,
   "metadata": {},
   "outputs": [
    {
     "name": "stdout",
     "output_type": "stream",
     "text": [
      "False\n",
      "False\n",
      "False\n"
     ]
    }
   ],
   "source": [
    "# See if the thread is alive.\n",
    "for i in thread_list:\n",
    "    print(i.is_alive())"
   ]
  },
  {
   "cell_type": "markdown",
   "metadata": {},
   "source": [
    "# Combine Price Files to Correspond to StockData.csv"
   ]
  },
  {
   "cell_type": "code",
   "execution_count": 29,
   "metadata": {
    "scrolled": true
   },
   "outputs": [
    {
     "name": "stdout",
     "output_type": "stream",
     "text": [
      "57878\r"
     ]
    }
   ],
   "source": [
    "import pandas as pd\n",
    "import os\n",
    "import numpy as np\n",
    "\n",
    "\n",
    "listOfPriceFiles = os.listdir('PriceDataFiles')\n",
    "\n",
    "pcols = ['ticker','startDate','startOpen','startHigh','startLow',\n",
    "         'startClose','startAdjusted_close','startVolume',\n",
    "         'endDate','endOpen','endHigh','endLow',\n",
    "         'endClose','endAdjusted_close','endVolume']\n",
    "priceDataDataFrame = pd.DataFrame(columns=pcols)\n",
    "\n",
    "count=0\n",
    "for file in listOfPriceFiles:\n",
    "    count+=1\n",
    "    priceDataDataFrame = priceDataDataFrame.append(\\\n",
    "                         pd.read_csv('PriceDataFiles/'+str(file), \n",
    "                                     names=pcols))\n",
    "    print('Read the', count, 'th file', end='\\r')\n",
    "    "
   ]
  },
  {
   "cell_type": "code",
   "execution_count": 32,
   "metadata": {},
   "outputs": [],
   "source": [
    "priceDataDataFrame.sort_index(inplace=True)\n",
    "priceDataDataFrame=priceDataDataFrame[~priceDataDataFrame.index.duplicated()]\n",
    "priceDataDataFrame.to_csv('priceData_2021.csv')"
   ]
  },
  {
   "cell_type": "markdown",
   "metadata": {},
   "source": [
    "# Filter both priceData and stockData"
   ]
  },
  {
   "cell_type": "code",
   "execution_count": 18,
   "metadata": {},
   "outputs": [
    {
     "name": "stderr",
     "output_type": "stream",
     "text": [
      "C:\\Users\\G50\\miniconda3\\envs\\tensorflow\\lib\\site-packages\\IPython\\core\\interactiveshell.py:3166: DtypeWarning: Columns (0,10,12,14,22,23,42) have mixed types.Specify dtype option on import or set low_memory=False.\n",
      "  interactivity=interactivity, compiler=compiler, result=result)\n"
     ]
    }
   ],
   "source": [
    "# No realy need, unless you want cut-down stockData and priceData. We use X and y to select stocks anyway\n",
    "'''# Read in both files\n",
    "stockData=pd.read_csv('stockData_2021.csv')\n",
    "priceData=pd.read_csv('priceData_2021.csv', index_col=0)\n",
    "\n",
    "# Remove problem lines from priceData\n",
    "priceData = priceData.dropna()\n",
    "# Remove corresponding lines from stockData\n",
    "stockData = stockData.loc[priceData.index]\n",
    "\n",
    "#Save both\n",
    "stockData.reset_index(drop=True, inplace=True)\n",
    "priceData.reset_index(drop=True, inplace=True)\n",
    "stockData.to_csv('stockData_2021_filtered.csv')\n",
    "priceData.to_csv('priceData_2021_filtered.csv')'''"
   ]
  },
  {
   "cell_type": "code",
   "execution_count": null,
   "metadata": {},
   "outputs": [],
   "source": []
  }
 ],
 "metadata": {
  "kernelspec": {
   "display_name": "Python 3",
   "language": "python",
   "name": "python3"
  },
  "language_info": {
   "codemirror_mode": {
    "name": "ipython",
    "version": 3
   },
   "file_extension": ".py",
   "mimetype": "text/x-python",
   "name": "python",
   "nbconvert_exporter": "python",
   "pygments_lexer": "ipython3",
   "version": "3.8.10"
  }
 },
 "nbformat": 4,
 "nbformat_minor": 4
}
